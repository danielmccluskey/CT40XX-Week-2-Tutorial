{
 "cells": [
  {
   "cell_type": "markdown",
   "metadata": {},
   "source": [
    "<img src=\"img/uoglogo.jpg\" style=\"float:left; width: 30%;\" alt=\"Drawing\" />\n",
    "<img src=\"img/jupyterlogo.png\" style=\"float:right; width: 7%; text-align:left; margin-right:0; margin-top:0;\" />"
   ]
  },
  {
   "cell_type": "markdown",
   "metadata": {},
   "source": [
    "# CT4103 - Week 2 Tutorial"
   ]
  },
  {
   "cell_type": "markdown",
   "metadata": {},
   "source": [
    "The following tasks are designed to test your knowledge on what we have learned during todays session, make sure to read each section carefully and then edit the code cells to fit the requirements. \n",
    "\n",
    "Try to complete the tasks by yourself, but if you would like some help you can either:\n",
    "- Look back at this weeks Lecture slides.\n",
    "- Ask one of the module tutors for help during a session.\n",
    "- Use Google to your advantage!"
   ]
  },
  {
   "cell_type": "markdown",
   "metadata": {},
   "source": [
    "<hr></hr>"
   ]
  },
  {
   "cell_type": "markdown",
   "metadata": {},
   "source": [
    "# Errors"
   ]
  },
  {
   "cell_type": "markdown",
   "metadata": {},
   "source": [
    "Run the following code cells and recorrect the errors by reading the error messages that they produce! *Some may have more than one error!*"
   ]
  },
  {
   "cell_type": "markdown",
   "metadata": {},
   "source": [
    "### Task 1\n"
   ]
  },
  {
   "cell_type": "code",
   "execution_count": null,
   "metadata": {},
   "outputs": [],
   "source": [
    "bestNumber = 4103\n",
    "bestModule = \"The best module is CT\"\n",
    "\n",
    "print(bestModule + bestNumber)"
   ]
  },
  {
   "cell_type": "markdown",
   "metadata": {},
   "source": [
    "### Task 2"
   ]
  },
  {
   "cell_type": "code",
   "execution_count": null,
   "metadata": {},
   "outputs": [],
   "source": [
    "A = 5\n",
    "B = 5\n",
    "\n",
    "if A = B\n",
    "    print(\"5 is greater than 10!\")\n",
    "    \n"
   ]
  },
  {
   "cell_type": "markdown",
   "metadata": {},
   "source": [
    "### Task 3"
   ]
  },
  {
   "cell_type": "code",
   "execution_count": null,
   "metadata": {},
   "outputs": [],
   "source": [
    "if 5 > 3:\n",
    "    print \"That sounds about right\""
   ]
  },
  {
   "cell_type": "markdown",
   "metadata": {},
   "source": [
    "### Task 4"
   ]
  },
  {
   "cell_type": "code",
   "execution_count": null,
   "metadata": {},
   "outputs": [],
   "source": [
    "A = 5\n",
    "B = 5\n",
    "\n",
    "if A > B:\n",
    "    print(\"A is bigger!\")\n",
    "    \n",
    "elif A == B:\n",
    "print(\"They are the same!\")"
   ]
  },
  {
   "cell_type": "markdown",
   "metadata": {},
   "source": [
    "# Functions"
   ]
  },
  {
   "cell_type": "markdown",
   "metadata": {},
   "source": [
    "### Task 1\n",
    "Define a function and call it! It can do anything you want such as Printing a message!"
   ]
  },
  {
   "cell_type": "code",
   "execution_count": null,
   "metadata": {},
   "outputs": [],
   "source": [
    "#Your code goes in this cell!"
   ]
  },
  {
   "cell_type": "markdown",
   "metadata": {},
   "source": [
    "### Task 2\n",
    "For this task, do the following:\n",
    "- Define a function with 2 Arguments\n",
    "- Use an If/Else statement to find out which argument is the biggest number and then `print()` it!\n",
    "\n",
    "When you are done, call the function with 2 numbers and then Run the cell to see if it works!"
   ]
  },
  {
   "cell_type": "code",
   "execution_count": null,
   "metadata": {},
   "outputs": [],
   "source": [
    "#Your code goes in this cell!"
   ]
  },
  {
   "cell_type": "markdown",
   "metadata": {},
   "source": [
    "### Task 3\n",
    "For this task you will do the following:\n",
    "- Define a function with 1 Argument\n",
    "- Use an If/Else statement to find out if the argument is Positive or Negative\n",
    "- Make the function return `False` if the number is negative and `True` if Positive\n",
    "\n",
    "When you are done, call the function with a number and then Run the cell to see if it works!"
   ]
  },
  {
   "cell_type": "code",
   "execution_count": null,
   "metadata": {},
   "outputs": [],
   "source": [
    "#Your code goes in this cell!"
   ]
  },
  {
   "cell_type": "markdown",
   "metadata": {},
   "source": [
    "### Task 4\n",
    "For this task you will do the following:\n",
    "- Define a Function with 1 Argument that Squares the number you give it and returns it!"
   ]
  },
  {
   "cell_type": "code",
   "execution_count": null,
   "metadata": {},
   "outputs": [],
   "source": [
    "#Your code goes in this cell!"
   ]
  }
 ],
 "metadata": {
  "kernelspec": {
   "display_name": "Python 3",
   "language": "python",
   "name": "python3"
  },
  "language_info": {
   "codemirror_mode": {
    "name": "ipython",
    "version": 3
   },
   "file_extension": ".py",
   "mimetype": "text/x-python",
   "name": "python",
   "nbconvert_exporter": "python",
   "pygments_lexer": "ipython3",
   "version": "3.8.3"
  }
 },
 "nbformat": 4,
 "nbformat_minor": 2
}
